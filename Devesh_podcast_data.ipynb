{
  "nbformat": 4,
  "nbformat_minor": 0,
  "metadata": {
    "colab": {
      "provenance": []
    },
    "kernelspec": {
      "name": "python3",
      "display_name": "Python 3"
    },
    "language_info": {
      "name": "python"
    },
    "widgets": {
      "application/vnd.jupyter.widget-state+json": {
        "b2989efb3aab4818ba9ddeaff48c8508": {
          "model_module": "@jupyter-widgets/controls",
          "model_name": "HBoxModel",
          "model_module_version": "1.5.0",
          "state": {
            "_dom_classes": [],
            "_model_module": "@jupyter-widgets/controls",
            "_model_module_version": "1.5.0",
            "_model_name": "HBoxModel",
            "_view_count": null,
            "_view_module": "@jupyter-widgets/controls",
            "_view_module_version": "1.5.0",
            "_view_name": "HBoxView",
            "box_style": "",
            "children": [
              "IPY_MODEL_e27fbcfb0293487db517cbbba2e5f5c4",
              "IPY_MODEL_cd5304e6651c4e9f8a220ead41298454",
              "IPY_MODEL_9b119dcac66142b5aafeba53adb2f4cf"
            ],
            "layout": "IPY_MODEL_f015b692e2d04e019c1f3e8558608452"
          }
        },
        "e27fbcfb0293487db517cbbba2e5f5c4": {
          "model_module": "@jupyter-widgets/controls",
          "model_name": "HTMLModel",
          "model_module_version": "1.5.0",
          "state": {
            "_dom_classes": [],
            "_model_module": "@jupyter-widgets/controls",
            "_model_module_version": "1.5.0",
            "_model_name": "HTMLModel",
            "_view_count": null,
            "_view_module": "@jupyter-widgets/controls",
            "_view_module_version": "1.5.0",
            "_view_name": "HTMLView",
            "description": "",
            "description_tooltip": null,
            "layout": "IPY_MODEL_fc283d21f1a54f079efa52940d5b32b3",
            "placeholder": "​",
            "style": "IPY_MODEL_de702671130443a69587f331861f6623",
            "value": "Downloading readme: 100%"
          }
        },
        "cd5304e6651c4e9f8a220ead41298454": {
          "model_module": "@jupyter-widgets/controls",
          "model_name": "FloatProgressModel",
          "model_module_version": "1.5.0",
          "state": {
            "_dom_classes": [],
            "_model_module": "@jupyter-widgets/controls",
            "_model_module_version": "1.5.0",
            "_model_name": "FloatProgressModel",
            "_view_count": null,
            "_view_module": "@jupyter-widgets/controls",
            "_view_module_version": "1.5.0",
            "_view_name": "ProgressView",
            "bar_style": "success",
            "description": "",
            "description_tooltip": null,
            "layout": "IPY_MODEL_3a3784f2c15a4be79bb3d63cb882a31a",
            "max": 3474,
            "min": 0,
            "orientation": "horizontal",
            "style": "IPY_MODEL_3b07e7e4b6124097b85be478445db8da",
            "value": 3474
          }
        },
        "9b119dcac66142b5aafeba53adb2f4cf": {
          "model_module": "@jupyter-widgets/controls",
          "model_name": "HTMLModel",
          "model_module_version": "1.5.0",
          "state": {
            "_dom_classes": [],
            "_model_module": "@jupyter-widgets/controls",
            "_model_module_version": "1.5.0",
            "_model_name": "HTMLModel",
            "_view_count": null,
            "_view_module": "@jupyter-widgets/controls",
            "_view_module_version": "1.5.0",
            "_view_name": "HTMLView",
            "description": "",
            "description_tooltip": null,
            "layout": "IPY_MODEL_4b9530ffa0b748f4826f6cbcde4e2a3e",
            "placeholder": "​",
            "style": "IPY_MODEL_69ab874a48e74f42a18a2ff80b6daf6f",
            "value": " 3.47k/3.47k [00:00&lt;00:00, 106kB/s]"
          }
        },
        "f015b692e2d04e019c1f3e8558608452": {
          "model_module": "@jupyter-widgets/base",
          "model_name": "LayoutModel",
          "model_module_version": "1.2.0",
          "state": {
            "_model_module": "@jupyter-widgets/base",
            "_model_module_version": "1.2.0",
            "_model_name": "LayoutModel",
            "_view_count": null,
            "_view_module": "@jupyter-widgets/base",
            "_view_module_version": "1.2.0",
            "_view_name": "LayoutView",
            "align_content": null,
            "align_items": null,
            "align_self": null,
            "border": null,
            "bottom": null,
            "display": null,
            "flex": null,
            "flex_flow": null,
            "grid_area": null,
            "grid_auto_columns": null,
            "grid_auto_flow": null,
            "grid_auto_rows": null,
            "grid_column": null,
            "grid_gap": null,
            "grid_row": null,
            "grid_template_areas": null,
            "grid_template_columns": null,
            "grid_template_rows": null,
            "height": null,
            "justify_content": null,
            "justify_items": null,
            "left": null,
            "margin": null,
            "max_height": null,
            "max_width": null,
            "min_height": null,
            "min_width": null,
            "object_fit": null,
            "object_position": null,
            "order": null,
            "overflow": null,
            "overflow_x": null,
            "overflow_y": null,
            "padding": null,
            "right": null,
            "top": null,
            "visibility": null,
            "width": null
          }
        },
        "fc283d21f1a54f079efa52940d5b32b3": {
          "model_module": "@jupyter-widgets/base",
          "model_name": "LayoutModel",
          "model_module_version": "1.2.0",
          "state": {
            "_model_module": "@jupyter-widgets/base",
            "_model_module_version": "1.2.0",
            "_model_name": "LayoutModel",
            "_view_count": null,
            "_view_module": "@jupyter-widgets/base",
            "_view_module_version": "1.2.0",
            "_view_name": "LayoutView",
            "align_content": null,
            "align_items": null,
            "align_self": null,
            "border": null,
            "bottom": null,
            "display": null,
            "flex": null,
            "flex_flow": null,
            "grid_area": null,
            "grid_auto_columns": null,
            "grid_auto_flow": null,
            "grid_auto_rows": null,
            "grid_column": null,
            "grid_gap": null,
            "grid_row": null,
            "grid_template_areas": null,
            "grid_template_columns": null,
            "grid_template_rows": null,
            "height": null,
            "justify_content": null,
            "justify_items": null,
            "left": null,
            "margin": null,
            "max_height": null,
            "max_width": null,
            "min_height": null,
            "min_width": null,
            "object_fit": null,
            "object_position": null,
            "order": null,
            "overflow": null,
            "overflow_x": null,
            "overflow_y": null,
            "padding": null,
            "right": null,
            "top": null,
            "visibility": null,
            "width": null
          }
        },
        "de702671130443a69587f331861f6623": {
          "model_module": "@jupyter-widgets/controls",
          "model_name": "DescriptionStyleModel",
          "model_module_version": "1.5.0",
          "state": {
            "_model_module": "@jupyter-widgets/controls",
            "_model_module_version": "1.5.0",
            "_model_name": "DescriptionStyleModel",
            "_view_count": null,
            "_view_module": "@jupyter-widgets/base",
            "_view_module_version": "1.2.0",
            "_view_name": "StyleView",
            "description_width": ""
          }
        },
        "3a3784f2c15a4be79bb3d63cb882a31a": {
          "model_module": "@jupyter-widgets/base",
          "model_name": "LayoutModel",
          "model_module_version": "1.2.0",
          "state": {
            "_model_module": "@jupyter-widgets/base",
            "_model_module_version": "1.2.0",
            "_model_name": "LayoutModel",
            "_view_count": null,
            "_view_module": "@jupyter-widgets/base",
            "_view_module_version": "1.2.0",
            "_view_name": "LayoutView",
            "align_content": null,
            "align_items": null,
            "align_self": null,
            "border": null,
            "bottom": null,
            "display": null,
            "flex": null,
            "flex_flow": null,
            "grid_area": null,
            "grid_auto_columns": null,
            "grid_auto_flow": null,
            "grid_auto_rows": null,
            "grid_column": null,
            "grid_gap": null,
            "grid_row": null,
            "grid_template_areas": null,
            "grid_template_columns": null,
            "grid_template_rows": null,
            "height": null,
            "justify_content": null,
            "justify_items": null,
            "left": null,
            "margin": null,
            "max_height": null,
            "max_width": null,
            "min_height": null,
            "min_width": null,
            "object_fit": null,
            "object_position": null,
            "order": null,
            "overflow": null,
            "overflow_x": null,
            "overflow_y": null,
            "padding": null,
            "right": null,
            "top": null,
            "visibility": null,
            "width": null
          }
        },
        "3b07e7e4b6124097b85be478445db8da": {
          "model_module": "@jupyter-widgets/controls",
          "model_name": "ProgressStyleModel",
          "model_module_version": "1.5.0",
          "state": {
            "_model_module": "@jupyter-widgets/controls",
            "_model_module_version": "1.5.0",
            "_model_name": "ProgressStyleModel",
            "_view_count": null,
            "_view_module": "@jupyter-widgets/base",
            "_view_module_version": "1.2.0",
            "_view_name": "StyleView",
            "bar_color": null,
            "description_width": ""
          }
        },
        "4b9530ffa0b748f4826f6cbcde4e2a3e": {
          "model_module": "@jupyter-widgets/base",
          "model_name": "LayoutModel",
          "model_module_version": "1.2.0",
          "state": {
            "_model_module": "@jupyter-widgets/base",
            "_model_module_version": "1.2.0",
            "_model_name": "LayoutModel",
            "_view_count": null,
            "_view_module": "@jupyter-widgets/base",
            "_view_module_version": "1.2.0",
            "_view_name": "LayoutView",
            "align_content": null,
            "align_items": null,
            "align_self": null,
            "border": null,
            "bottom": null,
            "display": null,
            "flex": null,
            "flex_flow": null,
            "grid_area": null,
            "grid_auto_columns": null,
            "grid_auto_flow": null,
            "grid_auto_rows": null,
            "grid_column": null,
            "grid_gap": null,
            "grid_row": null,
            "grid_template_areas": null,
            "grid_template_columns": null,
            "grid_template_rows": null,
            "height": null,
            "justify_content": null,
            "justify_items": null,
            "left": null,
            "margin": null,
            "max_height": null,
            "max_width": null,
            "min_height": null,
            "min_width": null,
            "object_fit": null,
            "object_position": null,
            "order": null,
            "overflow": null,
            "overflow_x": null,
            "overflow_y": null,
            "padding": null,
            "right": null,
            "top": null,
            "visibility": null,
            "width": null
          }
        },
        "69ab874a48e74f42a18a2ff80b6daf6f": {
          "model_module": "@jupyter-widgets/controls",
          "model_name": "DescriptionStyleModel",
          "model_module_version": "1.5.0",
          "state": {
            "_model_module": "@jupyter-widgets/controls",
            "_model_module_version": "1.5.0",
            "_model_name": "DescriptionStyleModel",
            "_view_count": null,
            "_view_module": "@jupyter-widgets/base",
            "_view_module_version": "1.2.0",
            "_view_name": "StyleView",
            "description_width": ""
          }
        },
        "2c9ff82566bc415babe7e390b5290710": {
          "model_module": "@jupyter-widgets/controls",
          "model_name": "HBoxModel",
          "model_module_version": "1.5.0",
          "state": {
            "_dom_classes": [],
            "_model_module": "@jupyter-widgets/controls",
            "_model_module_version": "1.5.0",
            "_model_name": "HBoxModel",
            "_view_count": null,
            "_view_module": "@jupyter-widgets/controls",
            "_view_module_version": "1.5.0",
            "_view_name": "HBoxView",
            "box_style": "",
            "children": [
              "IPY_MODEL_2ab2017fede24bc4a82cfc9da3911a86",
              "IPY_MODEL_9870262da01645cdab9d38f866c7a8bf",
              "IPY_MODEL_5f59519ee7774b25b3373eb9e936fa42"
            ],
            "layout": "IPY_MODEL_e623dff437644794a5121d298d1fa89d"
          }
        },
        "2ab2017fede24bc4a82cfc9da3911a86": {
          "model_module": "@jupyter-widgets/controls",
          "model_name": "HTMLModel",
          "model_module_version": "1.5.0",
          "state": {
            "_dom_classes": [],
            "_model_module": "@jupyter-widgets/controls",
            "_model_module_version": "1.5.0",
            "_model_name": "HTMLModel",
            "_view_count": null,
            "_view_module": "@jupyter-widgets/controls",
            "_view_module_version": "1.5.0",
            "_view_name": "HTMLView",
            "description": "",
            "description_tooltip": null,
            "layout": "IPY_MODEL_a10e38c3b784492f848cd0bbbd6c5910",
            "placeholder": "​",
            "style": "IPY_MODEL_eb0da83c8b3941e287fa32f75e6e2c7b",
            "value": "Downloading data: 100%"
          }
        },
        "9870262da01645cdab9d38f866c7a8bf": {
          "model_module": "@jupyter-widgets/controls",
          "model_name": "FloatProgressModel",
          "model_module_version": "1.5.0",
          "state": {
            "_dom_classes": [],
            "_model_module": "@jupyter-widgets/controls",
            "_model_module_version": "1.5.0",
            "_model_name": "FloatProgressModel",
            "_view_count": null,
            "_view_module": "@jupyter-widgets/controls",
            "_view_module_version": "1.5.0",
            "_view_name": "ProgressView",
            "bar_style": "success",
            "description": "",
            "description_tooltip": null,
            "layout": "IPY_MODEL_e2cc873cb11142519b7ec8e960c92346",
            "max": 57264732,
            "min": 0,
            "orientation": "horizontal",
            "style": "IPY_MODEL_50a7b116e5c647988c1e2b0c8d90d015",
            "value": 57264732
          }
        },
        "5f59519ee7774b25b3373eb9e936fa42": {
          "model_module": "@jupyter-widgets/controls",
          "model_name": "HTMLModel",
          "model_module_version": "1.5.0",
          "state": {
            "_dom_classes": [],
            "_model_module": "@jupyter-widgets/controls",
            "_model_module_version": "1.5.0",
            "_model_name": "HTMLModel",
            "_view_count": null,
            "_view_module": "@jupyter-widgets/controls",
            "_view_module_version": "1.5.0",
            "_view_name": "HTMLView",
            "description": "",
            "description_tooltip": null,
            "layout": "IPY_MODEL_8b32ffd5db394567af24c45c69a6f1cc",
            "placeholder": "​",
            "style": "IPY_MODEL_de2ae98cc0414dad8957fc527cf23cae",
            "value": " 57.3M/57.3M [00:07&lt;00:00, 8.22MB/s]"
          }
        },
        "e623dff437644794a5121d298d1fa89d": {
          "model_module": "@jupyter-widgets/base",
          "model_name": "LayoutModel",
          "model_module_version": "1.2.0",
          "state": {
            "_model_module": "@jupyter-widgets/base",
            "_model_module_version": "1.2.0",
            "_model_name": "LayoutModel",
            "_view_count": null,
            "_view_module": "@jupyter-widgets/base",
            "_view_module_version": "1.2.0",
            "_view_name": "LayoutView",
            "align_content": null,
            "align_items": null,
            "align_self": null,
            "border": null,
            "bottom": null,
            "display": null,
            "flex": null,
            "flex_flow": null,
            "grid_area": null,
            "grid_auto_columns": null,
            "grid_auto_flow": null,
            "grid_auto_rows": null,
            "grid_column": null,
            "grid_gap": null,
            "grid_row": null,
            "grid_template_areas": null,
            "grid_template_columns": null,
            "grid_template_rows": null,
            "height": null,
            "justify_content": null,
            "justify_items": null,
            "left": null,
            "margin": null,
            "max_height": null,
            "max_width": null,
            "min_height": null,
            "min_width": null,
            "object_fit": null,
            "object_position": null,
            "order": null,
            "overflow": null,
            "overflow_x": null,
            "overflow_y": null,
            "padding": null,
            "right": null,
            "top": null,
            "visibility": null,
            "width": null
          }
        },
        "a10e38c3b784492f848cd0bbbd6c5910": {
          "model_module": "@jupyter-widgets/base",
          "model_name": "LayoutModel",
          "model_module_version": "1.2.0",
          "state": {
            "_model_module": "@jupyter-widgets/base",
            "_model_module_version": "1.2.0",
            "_model_name": "LayoutModel",
            "_view_count": null,
            "_view_module": "@jupyter-widgets/base",
            "_view_module_version": "1.2.0",
            "_view_name": "LayoutView",
            "align_content": null,
            "align_items": null,
            "align_self": null,
            "border": null,
            "bottom": null,
            "display": null,
            "flex": null,
            "flex_flow": null,
            "grid_area": null,
            "grid_auto_columns": null,
            "grid_auto_flow": null,
            "grid_auto_rows": null,
            "grid_column": null,
            "grid_gap": null,
            "grid_row": null,
            "grid_template_areas": null,
            "grid_template_columns": null,
            "grid_template_rows": null,
            "height": null,
            "justify_content": null,
            "justify_items": null,
            "left": null,
            "margin": null,
            "max_height": null,
            "max_width": null,
            "min_height": null,
            "min_width": null,
            "object_fit": null,
            "object_position": null,
            "order": null,
            "overflow": null,
            "overflow_x": null,
            "overflow_y": null,
            "padding": null,
            "right": null,
            "top": null,
            "visibility": null,
            "width": null
          }
        },
        "eb0da83c8b3941e287fa32f75e6e2c7b": {
          "model_module": "@jupyter-widgets/controls",
          "model_name": "DescriptionStyleModel",
          "model_module_version": "1.5.0",
          "state": {
            "_model_module": "@jupyter-widgets/controls",
            "_model_module_version": "1.5.0",
            "_model_name": "DescriptionStyleModel",
            "_view_count": null,
            "_view_module": "@jupyter-widgets/base",
            "_view_module_version": "1.2.0",
            "_view_name": "StyleView",
            "description_width": ""
          }
        },
        "e2cc873cb11142519b7ec8e960c92346": {
          "model_module": "@jupyter-widgets/base",
          "model_name": "LayoutModel",
          "model_module_version": "1.2.0",
          "state": {
            "_model_module": "@jupyter-widgets/base",
            "_model_module_version": "1.2.0",
            "_model_name": "LayoutModel",
            "_view_count": null,
            "_view_module": "@jupyter-widgets/base",
            "_view_module_version": "1.2.0",
            "_view_name": "LayoutView",
            "align_content": null,
            "align_items": null,
            "align_self": null,
            "border": null,
            "bottom": null,
            "display": null,
            "flex": null,
            "flex_flow": null,
            "grid_area": null,
            "grid_auto_columns": null,
            "grid_auto_flow": null,
            "grid_auto_rows": null,
            "grid_column": null,
            "grid_gap": null,
            "grid_row": null,
            "grid_template_areas": null,
            "grid_template_columns": null,
            "grid_template_rows": null,
            "height": null,
            "justify_content": null,
            "justify_items": null,
            "left": null,
            "margin": null,
            "max_height": null,
            "max_width": null,
            "min_height": null,
            "min_width": null,
            "object_fit": null,
            "object_position": null,
            "order": null,
            "overflow": null,
            "overflow_x": null,
            "overflow_y": null,
            "padding": null,
            "right": null,
            "top": null,
            "visibility": null,
            "width": null
          }
        },
        "50a7b116e5c647988c1e2b0c8d90d015": {
          "model_module": "@jupyter-widgets/controls",
          "model_name": "ProgressStyleModel",
          "model_module_version": "1.5.0",
          "state": {
            "_model_module": "@jupyter-widgets/controls",
            "_model_module_version": "1.5.0",
            "_model_name": "ProgressStyleModel",
            "_view_count": null,
            "_view_module": "@jupyter-widgets/base",
            "_view_module_version": "1.2.0",
            "_view_name": "StyleView",
            "bar_color": null,
            "description_width": ""
          }
        },
        "8b32ffd5db394567af24c45c69a6f1cc": {
          "model_module": "@jupyter-widgets/base",
          "model_name": "LayoutModel",
          "model_module_version": "1.2.0",
          "state": {
            "_model_module": "@jupyter-widgets/base",
            "_model_module_version": "1.2.0",
            "_model_name": "LayoutModel",
            "_view_count": null,
            "_view_module": "@jupyter-widgets/base",
            "_view_module_version": "1.2.0",
            "_view_name": "LayoutView",
            "align_content": null,
            "align_items": null,
            "align_self": null,
            "border": null,
            "bottom": null,
            "display": null,
            "flex": null,
            "flex_flow": null,
            "grid_area": null,
            "grid_auto_columns": null,
            "grid_auto_flow": null,
            "grid_auto_rows": null,
            "grid_column": null,
            "grid_gap": null,
            "grid_row": null,
            "grid_template_areas": null,
            "grid_template_columns": null,
            "grid_template_rows": null,
            "height": null,
            "justify_content": null,
            "justify_items": null,
            "left": null,
            "margin": null,
            "max_height": null,
            "max_width": null,
            "min_height": null,
            "min_width": null,
            "object_fit": null,
            "object_position": null,
            "order": null,
            "overflow": null,
            "overflow_x": null,
            "overflow_y": null,
            "padding": null,
            "right": null,
            "top": null,
            "visibility": null,
            "width": null
          }
        },
        "de2ae98cc0414dad8957fc527cf23cae": {
          "model_module": "@jupyter-widgets/controls",
          "model_name": "DescriptionStyleModel",
          "model_module_version": "1.5.0",
          "state": {
            "_model_module": "@jupyter-widgets/controls",
            "_model_module_version": "1.5.0",
            "_model_name": "DescriptionStyleModel",
            "_view_count": null,
            "_view_module": "@jupyter-widgets/base",
            "_view_module_version": "1.2.0",
            "_view_name": "StyleView",
            "description_width": ""
          }
        },
        "cfd9bf9335354c8283236611050f23d5": {
          "model_module": "@jupyter-widgets/controls",
          "model_name": "HBoxModel",
          "model_module_version": "1.5.0",
          "state": {
            "_dom_classes": [],
            "_model_module": "@jupyter-widgets/controls",
            "_model_module_version": "1.5.0",
            "_model_name": "HBoxModel",
            "_view_count": null,
            "_view_module": "@jupyter-widgets/controls",
            "_view_module_version": "1.5.0",
            "_view_name": "HBoxView",
            "box_style": "",
            "children": [
              "IPY_MODEL_b2c4f6cd2160415da6296670bee69008",
              "IPY_MODEL_138c574b9a6a4527b85eb886bbde6185",
              "IPY_MODEL_8cbc5a5ce01a4e9d919cb7753ef163ae"
            ],
            "layout": "IPY_MODEL_1d043efdd20b47d48f7a89034eb7bca4"
          }
        },
        "b2c4f6cd2160415da6296670bee69008": {
          "model_module": "@jupyter-widgets/controls",
          "model_name": "HTMLModel",
          "model_module_version": "1.5.0",
          "state": {
            "_dom_classes": [],
            "_model_module": "@jupyter-widgets/controls",
            "_model_module_version": "1.5.0",
            "_model_name": "HTMLModel",
            "_view_count": null,
            "_view_module": "@jupyter-widgets/controls",
            "_view_module_version": "1.5.0",
            "_view_name": "HTMLView",
            "description": "",
            "description_tooltip": null,
            "layout": "IPY_MODEL_08579c939a844bf7aa9170e7cd7c6511",
            "placeholder": "​",
            "style": "IPY_MODEL_4a9aebeb8971432fa0c21943aa9e1e2d",
            "value": "Generating train split: 100%"
          }
        },
        "138c574b9a6a4527b85eb886bbde6185": {
          "model_module": "@jupyter-widgets/controls",
          "model_name": "FloatProgressModel",
          "model_module_version": "1.5.0",
          "state": {
            "_dom_classes": [],
            "_model_module": "@jupyter-widgets/controls",
            "_model_module_version": "1.5.0",
            "_model_name": "FloatProgressModel",
            "_view_count": null,
            "_view_module": "@jupyter-widgets/controls",
            "_view_module_version": "1.5.0",
            "_view_name": "ProgressView",
            "bar_style": "success",
            "description": "",
            "description_tooltip": null,
            "layout": "IPY_MODEL_6ddeb6bb1b4247689461c391be6b3d9c",
            "max": 346,
            "min": 0,
            "orientation": "horizontal",
            "style": "IPY_MODEL_59bb573db0ba4f4b84894bca1ba52a78",
            "value": 346
          }
        },
        "8cbc5a5ce01a4e9d919cb7753ef163ae": {
          "model_module": "@jupyter-widgets/controls",
          "model_name": "HTMLModel",
          "model_module_version": "1.5.0",
          "state": {
            "_dom_classes": [],
            "_model_module": "@jupyter-widgets/controls",
            "_model_module_version": "1.5.0",
            "_model_name": "HTMLModel",
            "_view_count": null,
            "_view_module": "@jupyter-widgets/controls",
            "_view_module_version": "1.5.0",
            "_view_name": "HTMLView",
            "description": "",
            "description_tooltip": null,
            "layout": "IPY_MODEL_26d7a91bc4314892b13983c6febf5cac",
            "placeholder": "​",
            "style": "IPY_MODEL_c1483314380d4dc29b3c5c0e28db30b3",
            "value": " 346/346 [00:00&lt;00:00, 531.16 examples/s]"
          }
        },
        "1d043efdd20b47d48f7a89034eb7bca4": {
          "model_module": "@jupyter-widgets/base",
          "model_name": "LayoutModel",
          "model_module_version": "1.2.0",
          "state": {
            "_model_module": "@jupyter-widgets/base",
            "_model_module_version": "1.2.0",
            "_model_name": "LayoutModel",
            "_view_count": null,
            "_view_module": "@jupyter-widgets/base",
            "_view_module_version": "1.2.0",
            "_view_name": "LayoutView",
            "align_content": null,
            "align_items": null,
            "align_self": null,
            "border": null,
            "bottom": null,
            "display": null,
            "flex": null,
            "flex_flow": null,
            "grid_area": null,
            "grid_auto_columns": null,
            "grid_auto_flow": null,
            "grid_auto_rows": null,
            "grid_column": null,
            "grid_gap": null,
            "grid_row": null,
            "grid_template_areas": null,
            "grid_template_columns": null,
            "grid_template_rows": null,
            "height": null,
            "justify_content": null,
            "justify_items": null,
            "left": null,
            "margin": null,
            "max_height": null,
            "max_width": null,
            "min_height": null,
            "min_width": null,
            "object_fit": null,
            "object_position": null,
            "order": null,
            "overflow": null,
            "overflow_x": null,
            "overflow_y": null,
            "padding": null,
            "right": null,
            "top": null,
            "visibility": null,
            "width": null
          }
        },
        "08579c939a844bf7aa9170e7cd7c6511": {
          "model_module": "@jupyter-widgets/base",
          "model_name": "LayoutModel",
          "model_module_version": "1.2.0",
          "state": {
            "_model_module": "@jupyter-widgets/base",
            "_model_module_version": "1.2.0",
            "_model_name": "LayoutModel",
            "_view_count": null,
            "_view_module": "@jupyter-widgets/base",
            "_view_module_version": "1.2.0",
            "_view_name": "LayoutView",
            "align_content": null,
            "align_items": null,
            "align_self": null,
            "border": null,
            "bottom": null,
            "display": null,
            "flex": null,
            "flex_flow": null,
            "grid_area": null,
            "grid_auto_columns": null,
            "grid_auto_flow": null,
            "grid_auto_rows": null,
            "grid_column": null,
            "grid_gap": null,
            "grid_row": null,
            "grid_template_areas": null,
            "grid_template_columns": null,
            "grid_template_rows": null,
            "height": null,
            "justify_content": null,
            "justify_items": null,
            "left": null,
            "margin": null,
            "max_height": null,
            "max_width": null,
            "min_height": null,
            "min_width": null,
            "object_fit": null,
            "object_position": null,
            "order": null,
            "overflow": null,
            "overflow_x": null,
            "overflow_y": null,
            "padding": null,
            "right": null,
            "top": null,
            "visibility": null,
            "width": null
          }
        },
        "4a9aebeb8971432fa0c21943aa9e1e2d": {
          "model_module": "@jupyter-widgets/controls",
          "model_name": "DescriptionStyleModel",
          "model_module_version": "1.5.0",
          "state": {
            "_model_module": "@jupyter-widgets/controls",
            "_model_module_version": "1.5.0",
            "_model_name": "DescriptionStyleModel",
            "_view_count": null,
            "_view_module": "@jupyter-widgets/base",
            "_view_module_version": "1.2.0",
            "_view_name": "StyleView",
            "description_width": ""
          }
        },
        "6ddeb6bb1b4247689461c391be6b3d9c": {
          "model_module": "@jupyter-widgets/base",
          "model_name": "LayoutModel",
          "model_module_version": "1.2.0",
          "state": {
            "_model_module": "@jupyter-widgets/base",
            "_model_module_version": "1.2.0",
            "_model_name": "LayoutModel",
            "_view_count": null,
            "_view_module": "@jupyter-widgets/base",
            "_view_module_version": "1.2.0",
            "_view_name": "LayoutView",
            "align_content": null,
            "align_items": null,
            "align_self": null,
            "border": null,
            "bottom": null,
            "display": null,
            "flex": null,
            "flex_flow": null,
            "grid_area": null,
            "grid_auto_columns": null,
            "grid_auto_flow": null,
            "grid_auto_rows": null,
            "grid_column": null,
            "grid_gap": null,
            "grid_row": null,
            "grid_template_areas": null,
            "grid_template_columns": null,
            "grid_template_rows": null,
            "height": null,
            "justify_content": null,
            "justify_items": null,
            "left": null,
            "margin": null,
            "max_height": null,
            "max_width": null,
            "min_height": null,
            "min_width": null,
            "object_fit": null,
            "object_position": null,
            "order": null,
            "overflow": null,
            "overflow_x": null,
            "overflow_y": null,
            "padding": null,
            "right": null,
            "top": null,
            "visibility": null,
            "width": null
          }
        },
        "59bb573db0ba4f4b84894bca1ba52a78": {
          "model_module": "@jupyter-widgets/controls",
          "model_name": "ProgressStyleModel",
          "model_module_version": "1.5.0",
          "state": {
            "_model_module": "@jupyter-widgets/controls",
            "_model_module_version": "1.5.0",
            "_model_name": "ProgressStyleModel",
            "_view_count": null,
            "_view_module": "@jupyter-widgets/base",
            "_view_module_version": "1.2.0",
            "_view_name": "StyleView",
            "bar_color": null,
            "description_width": ""
          }
        },
        "26d7a91bc4314892b13983c6febf5cac": {
          "model_module": "@jupyter-widgets/base",
          "model_name": "LayoutModel",
          "model_module_version": "1.2.0",
          "state": {
            "_model_module": "@jupyter-widgets/base",
            "_model_module_version": "1.2.0",
            "_model_name": "LayoutModel",
            "_view_count": null,
            "_view_module": "@jupyter-widgets/base",
            "_view_module_version": "1.2.0",
            "_view_name": "LayoutView",
            "align_content": null,
            "align_items": null,
            "align_self": null,
            "border": null,
            "bottom": null,
            "display": null,
            "flex": null,
            "flex_flow": null,
            "grid_area": null,
            "grid_auto_columns": null,
            "grid_auto_flow": null,
            "grid_auto_rows": null,
            "grid_column": null,
            "grid_gap": null,
            "grid_row": null,
            "grid_template_areas": null,
            "grid_template_columns": null,
            "grid_template_rows": null,
            "height": null,
            "justify_content": null,
            "justify_items": null,
            "left": null,
            "margin": null,
            "max_height": null,
            "max_width": null,
            "min_height": null,
            "min_width": null,
            "object_fit": null,
            "object_position": null,
            "order": null,
            "overflow": null,
            "overflow_x": null,
            "overflow_y": null,
            "padding": null,
            "right": null,
            "top": null,
            "visibility": null,
            "width": null
          }
        },
        "c1483314380d4dc29b3c5c0e28db30b3": {
          "model_module": "@jupyter-widgets/controls",
          "model_name": "DescriptionStyleModel",
          "model_module_version": "1.5.0",
          "state": {
            "_model_module": "@jupyter-widgets/controls",
            "_model_module_version": "1.5.0",
            "_model_name": "DescriptionStyleModel",
            "_view_count": null,
            "_view_module": "@jupyter-widgets/base",
            "_view_module_version": "1.2.0",
            "_view_name": "StyleView",
            "description_width": ""
          }
        }
      }
    }
  },
  "cells": [
    {
      "cell_type": "markdown",
      "source": [
        "# Collecting Data of Huberman Podcast."
      ],
      "metadata": {
        "id": "dRD1INVsKtht"
      }
    },
    {
      "cell_type": "code",
      "source": [
        "!pip install openai pytube -q\n",
        "!pip install git+https://github.com/openai/whisper.git -q"
      ],
      "metadata": {
        "colab": {
          "base_uri": "https://localhost:8080/"
        },
        "id": "WjdcgKVeE_Cq",
        "outputId": "68acb783-7dcd-4678-b734-6cfa8d5e5db9"
      },
      "execution_count": 19,
      "outputs": [
        {
          "output_type": "stream",
          "name": "stdout",
          "text": [
            "\u001b[?25l     \u001b[90m━━━━━━━━━━━━━━━━━━━━━━━━━━━━━━━━━━━━━━━━\u001b[0m \u001b[32m0.0/57.6 kB\u001b[0m \u001b[31m?\u001b[0m eta \u001b[36m-:--:--\u001b[0m\r\u001b[2K     \u001b[91m━━━━━━━━━━━━━━━━━━━━━\u001b[0m\u001b[90m╺\u001b[0m\u001b[90m━━━━━━━━━━━━━━━━━━\u001b[0m \u001b[32m30.7/57.6 kB\u001b[0m \u001b[31m1.5 MB/s\u001b[0m eta \u001b[36m0:00:01\u001b[0m\r\u001b[2K     \u001b[90m━━━━━━━━━━━━━━━━━━━━━━━━━━━━━━━━━━━━━━━━\u001b[0m \u001b[32m57.6/57.6 kB\u001b[0m \u001b[31m1.0 MB/s\u001b[0m eta \u001b[36m0:00:00\u001b[0m\n",
            "\u001b[?25h  Installing build dependencies ... \u001b[?25l\u001b[?25hdone\n",
            "  Getting requirements to build wheel ... \u001b[?25l\u001b[?25hdone\n",
            "  Preparing metadata (pyproject.toml) ... \u001b[?25l\u001b[?25hdone\n",
            "  Building wheel for openai-whisper (pyproject.toml) ... \u001b[?25l\u001b[?25hdone\n"
          ]
        }
      ]
    },
    {
      "cell_type": "code",
      "source": [
        "import openai\n",
        "import whisper\n",
        "import pandas as pd\n",
        "from pytube import YouTube\n",
        "from getpass import getpass\n",
        "\n",
        "COMPLETIONS_MODEL = \"text-davinci-003\"\n",
        "EMBEDDINGS_MODEL = \"text-embedding-ada-002\"\n",
        "# openai.api_key = getpass(\"\")"
      ],
      "metadata": {
        "id": "XQbKWr8EHVwN"
      },
      "execution_count": 20,
      "outputs": []
    },
    {
      "cell_type": "code",
      "source": [
        "model = whisper.load_model('base')"
      ],
      "metadata": {
        "colab": {
          "base_uri": "https://localhost:8080/"
        },
        "id": "0Og78V_hHxw1",
        "outputId": "0bd372f5-761e-4356-9efb-d188dfec37f2"
      },
      "execution_count": 21,
      "outputs": [
        {
          "output_type": "stream",
          "name": "stderr",
          "text": [
            "100%|████████████████████████████████████████| 139M/139M [00:01<00:00, 131MiB/s]\n"
          ]
        }
      ]
    },
    {
      "cell_type": "code",
      "source": [
        "youtube_video_url = \"https://www.youtube.com/watch?v=CQlTmOFM4Qs&t=996s\"\n",
        "youtube_video = YouTube(youtube_video_url)"
      ],
      "metadata": {
        "id": "_H-5m_olI06k"
      },
      "execution_count": 22,
      "outputs": []
    },
    {
      "cell_type": "code",
      "source": [
        "dir(youtube_video)"
      ],
      "metadata": {
        "colab": {
          "base_uri": "https://localhost:8080/"
        },
        "id": "fvgaGaxdJIQq",
        "outputId": "c1b8e4cc-18b0-4de3-9488-dc786cb153e1"
      },
      "execution_count": 23,
      "outputs": [
        {
          "output_type": "execute_result",
          "data": {
            "text/plain": [
              "['__class__',\n",
              " '__delattr__',\n",
              " '__dict__',\n",
              " '__dir__',\n",
              " '__doc__',\n",
              " '__eq__',\n",
              " '__format__',\n",
              " '__ge__',\n",
              " '__getattribute__',\n",
              " '__gt__',\n",
              " '__hash__',\n",
              " '__init__',\n",
              " '__init_subclass__',\n",
              " '__le__',\n",
              " '__lt__',\n",
              " '__module__',\n",
              " '__ne__',\n",
              " '__new__',\n",
              " '__reduce__',\n",
              " '__reduce_ex__',\n",
              " '__repr__',\n",
              " '__setattr__',\n",
              " '__sizeof__',\n",
              " '__str__',\n",
              " '__subclasshook__',\n",
              " '__weakref__',\n",
              " '_age_restricted',\n",
              " '_author',\n",
              " '_embed_html',\n",
              " '_fmt_streams',\n",
              " '_initial_data',\n",
              " '_js',\n",
              " '_js_url',\n",
              " '_metadata',\n",
              " '_player_config_args',\n",
              " '_publish_date',\n",
              " '_title',\n",
              " '_vid_info',\n",
              " '_watch_html',\n",
              " 'age_restricted',\n",
              " 'allow_oauth_cache',\n",
              " 'author',\n",
              " 'bypass_age_gate',\n",
              " 'caption_tracks',\n",
              " 'captions',\n",
              " 'channel_id',\n",
              " 'channel_url',\n",
              " 'check_availability',\n",
              " 'description',\n",
              " 'embed_html',\n",
              " 'embed_url',\n",
              " 'fmt_streams',\n",
              " 'from_id',\n",
              " 'initial_data',\n",
              " 'js',\n",
              " 'js_url',\n",
              " 'keywords',\n",
              " 'length',\n",
              " 'metadata',\n",
              " 'publish_date',\n",
              " 'rating',\n",
              " 'register_on_complete_callback',\n",
              " 'register_on_progress_callback',\n",
              " 'stream_monostate',\n",
              " 'streaming_data',\n",
              " 'streams',\n",
              " 'thumbnail_url',\n",
              " 'title',\n",
              " 'use_oauth',\n",
              " 'vid_info',\n",
              " 'video_id',\n",
              " 'views',\n",
              " 'watch_html',\n",
              " 'watch_url']"
            ]
          },
          "metadata": {},
          "execution_count": 23
        }
      ]
    },
    {
      "cell_type": "code",
      "source": [
        "stream = youtube_video.streams.filter(only_audio=True).first()\n",
        "stream.download(filename='huberman_focus.mp4')"
      ],
      "metadata": {
        "colab": {
          "base_uri": "https://localhost:8080/",
          "height": 35
        },
        "id": "fuCqEdsRJMDu",
        "outputId": "621da281-bfd6-47ba-caf3-eff50278220a"
      },
      "execution_count": 24,
      "outputs": [
        {
          "output_type": "execute_result",
          "data": {
            "text/plain": [
              "'/content/huberman_focus.mp4'"
            ],
            "application/vnd.google.colaboratory.intrinsic+json": {
              "type": "string"
            }
          },
          "metadata": {},
          "execution_count": 24
        }
      ]
    },
    {
      "cell_type": "code",
      "source": [
        "description = youtube_video.description"
      ],
      "metadata": {
        "id": "80AbpDR6Jb5J"
      },
      "execution_count": 25,
      "outputs": []
    },
    {
      "cell_type": "code",
      "source": [
        "description"
      ],
      "metadata": {
        "colab": {
          "base_uri": "https://localhost:8080/",
          "height": 696
        },
        "id": "9nQBCZK-JprN",
        "outputId": "9ca47a3d-3724-4a12-e8ff-5be9688eebfd"
      },
      "execution_count": 26,
      "outputs": [
        {
          "output_type": "execute_result",
          "data": {
            "text/plain": [
              "'In this episode, I discuss working memory, which is critical for learning and productivity, strategy setting, goal seeking, and navigating new environments. I explain the key role of dopamine and the biological mechanisms underlying working memory and how working memory differs from both short- and long-term memory.\\n\\nI also describe science-supported tools to enhance working memory and attention—including zero- or low-cost behavioral, supplemental and pharmacologic approaches. I include how to assess your working memory and how to use memory tasks to determine your baseline dopamine levels in certain brain circuits.\\n\\nThis episode provides listeners with highly actionable tools to assess and improve their attention to specific tasks and task-switching capacity and to enhance their overall productivity.\\n\\n*Thank you to our sponsors*\\nAG1: https://drinkag1.com/huberman\\nMateina: https://drinkmateina.com/huberman \\nBetterHelp:  https://betterhelp.com/huberman \\nHelix Sleep: https://helixsleep.com/huberman \\nLMNT: https://drinklmnt.com/huberman \\nMomentous: https://livemomentous.com/huberman \\n\\n*Social & Website*\\nInstagram: https://www.instagram.com/hubermanlab \\nThreads: https://www.threads.net/@hubermanlab\\nTwitter: https://twitter.com/hubermanlab \\nFacebook: https://www.facebook.com/hubermanlab \\nTikTok: https://www.tiktok.com/@hubermanlab \\nLinkedIn: https://www.linkedin.com/in/andrew-huberman\\nWebsite: https://www.hubermanlab.com \\nNewsletter: https://www.hubermanlab.com/newsletter\\n\\n*Journal Articles*\\nWorking Memory Capacity Predicts Dopamine Synthesis Capacity in the Human Striatum: https://bit.ly/3UjmP4z\\nInverted-U–Shaped Dopamine Actions on Human Working Memory and Cognitive Control: https://bit.ly/3UdfWBP\\nCognitive Deficit Caused by Regional Depletion of Dopamine in Prefrontal Cortex of Rhesus Monkey: https://bit.ly/49g3yW5\\nThe dopamine agonist bromocriptine differentially affects fronto-striatal functional connectivity during working memory: https://bit.ly/3SyMjcY\\nIncreased dopamine tone during meditation-induced change of consciousness: https://bit.ly/3QDfE53\\nHuman physiological responses to immersion into water of different temperatures: https://bit.ly/3HCniHC\\nThe Effect of Binaural Beats on Visuospatial Working Memory and Cortical Connectivity: https://bit.ly/3SAFuHT\\nTyrosine Improves Working Memory in a Multitasking Environment: https://bit.ly/48QQjv8\\n\\n*Resources*\\nNSDR: https://youtube.com/playlist?list=PLPNW_gerXa4P6-7EC4twzLBjR22rQYk3u&feature=shared\\nThe Science & Use of Cold Exposure for Health & Performance: https://go.hubermanlab.com/wqrjXIsYYT\\n\\n*Huberman Lab Episodes Mentioned*\\nUnderstand & Improve Memory Using Science-Based Tools: https://go.hubermanlab.com/miohHKRSYT\\nADHD & How Anyone Can Improve Their Focus: https://go.hubermanlab.com/XReodaB9YT\\nAdderall, Stimulants & Modafinil for ADHD: Short- & Long-Term Effects: https://go.hubermanlab.com/VS83tuCgYT\\nLeverage Dopamine to Overcome Procrastination & Optimize Effort: https://go.hubermanlab.com/LgeyAbznYT\\nControlling Your Dopamine For Motivation, Focus & Satisfaction: https://go.hubermanlab.com/WMwb80NkYT\\n\\n*People Mentioned*\\nDonald Hebb: Psychologist, influential contributions to understanding of learning: https://bit.ly/4bbhXEx\\nMark D’Esposito: Psychology Professor at the University of California, Berkeley: https://bit.ly/3vRcFhj\\n\\n*Timestamps*\\n00:00:00 Working Memory\\n00:01:12 Sponsors: Mateina, BetterHelp & Helix Sleep\\n00:05:00 Short- vs. Long-Term Memory\\n00:09:59 Neuroplasticity\\n00:15:42 Working Memory; Attention & Focus\\n00:20:04 Working Memory Test\\n00:25:35 Sponsor: AG1\\n00:27:02 Brain & Working Memory; Dopamine\\n00:36:13 Working Memory Capacity Test\\n00:44:37 Increasing Dopamine & Working Memory\\n00:49:26 Task Switching, Distractions\\n00:54:42 Sponsor: LMNT\\n00:56:04 Tool: Yoga Nidra, Non-Sleep Deep Rest (NSDR) & Dopamine\\n01:03:08 Tool: Deliberate Cold Exposure & Dopamine\\n01:11:02 Tool: Working Memory & Binaural Beats\\n01:15:23 Supplements to Increase Dopamine: L-Tyrosine, Mucuna Pruriens\\n01:22:53 Dopamine Prescriptions, Attention Deficit Hyperactivity Disorder (ADHD)\\n01:29:12 Zero-Cost Support, Spotify & Apple Reviews, YouTube Feedback, Sponsors,  Momentous, Social Media, Neural Network Newsletter\\n\\n#HubermanLab #Science #Memory\\n\\nTitle Card Photo Credit: Mike Blabac - https://www.blabacphoto.com\\n\\nDisclaimer: https://hubermanlab.com/disclaimer'"
            ],
            "application/vnd.google.colaboratory.intrinsic+json": {
              "type": "string"
            }
          },
          "metadata": {},
          "execution_count": 26
        }
      ]
    },
    {
      "cell_type": "code",
      "source": [
        "transcribe = model.transcribe('/content/huberman_focus.mp4')\n",
        "#  Took around 20 minutes for a single video. Will try using !nvidia-smi"
      ],
      "metadata": {
        "colab": {
          "base_uri": "https://localhost:8080/"
        },
        "id": "yZD8qKK8Jrf9",
        "outputId": "230c87ed-4f4d-4683-ca80-6a6db341ffa4"
      },
      "execution_count": 28,
      "outputs": [
        {
          "output_type": "stream",
          "name": "stderr",
          "text": [
            "/usr/local/lib/python3.10/dist-packages/whisper/transcribe.py:126: UserWarning: FP16 is not supported on CPU; using FP32 instead\n",
            "  warnings.warn(\"FP16 is not supported on CPU; using FP32 instead\")\n"
          ]
        }
      ]
    },
    {
      "cell_type": "code",
      "source": [
        "len(transcribe['text'])"
      ],
      "metadata": {
        "colab": {
          "base_uri": "https://localhost:8080/"
        },
        "id": "-xBzGxUIOL2d",
        "outputId": "058b9156-2f9b-4d98-a6e7-8111d0a5305a"
      },
      "execution_count": 32,
      "outputs": [
        {
          "output_type": "execute_result",
          "data": {
            "text/plain": [
              "99558"
            ]
          },
          "metadata": {},
          "execution_count": 32
        }
      ]
    },
    {
      "cell_type": "code",
      "source": [
        "with open(\"/content/huberman_focus.txt\", 'w') as file:\n",
        "  file.write(transcribe['text'])"
      ],
      "metadata": {
        "id": "G_0N3O5fOfsJ"
      },
      "execution_count": 33,
      "outputs": []
    },
    {
      "cell_type": "markdown",
      "source": [
        "# Transcibing is taking long time therefore using datasets downloaded for LexFridman podcast on hugging face."
      ],
      "metadata": {
        "id": "rU-k10S8Kzcj"
      }
    },
    {
      "cell_type": "code",
      "source": [
        "# !pip install pyarrow --no-binary pyarrow\n",
        "# !pip install datasets --no-build-isolation\n",
        "# from datasets import load_dataset\n",
        "# dataset = load_dataset(\"Whispering-GPT/lex-fridman-podcast\")"
      ],
      "metadata": {
        "id": "hXbEb60cJ5Ea"
      },
      "execution_count": null,
      "outputs": []
    },
    {
      "cell_type": "code",
      "source": [
        "# !pip install datasets\n",
        "from datasets import load_dataset\n",
        "dataset = load_dataset(\"Whispering-GPT/lex-fridman-podcast\")"
      ],
      "metadata": {
        "colab": {
          "base_uri": "https://localhost:8080/",
          "height": 240,
          "referenced_widgets": [
            "b2989efb3aab4818ba9ddeaff48c8508",
            "e27fbcfb0293487db517cbbba2e5f5c4",
            "cd5304e6651c4e9f8a220ead41298454",
            "9b119dcac66142b5aafeba53adb2f4cf",
            "f015b692e2d04e019c1f3e8558608452",
            "fc283d21f1a54f079efa52940d5b32b3",
            "de702671130443a69587f331861f6623",
            "3a3784f2c15a4be79bb3d63cb882a31a",
            "3b07e7e4b6124097b85be478445db8da",
            "4b9530ffa0b748f4826f6cbcde4e2a3e",
            "69ab874a48e74f42a18a2ff80b6daf6f",
            "2c9ff82566bc415babe7e390b5290710",
            "2ab2017fede24bc4a82cfc9da3911a86",
            "9870262da01645cdab9d38f866c7a8bf",
            "5f59519ee7774b25b3373eb9e936fa42",
            "e623dff437644794a5121d298d1fa89d",
            "a10e38c3b784492f848cd0bbbd6c5910",
            "eb0da83c8b3941e287fa32f75e6e2c7b",
            "e2cc873cb11142519b7ec8e960c92346",
            "50a7b116e5c647988c1e2b0c8d90d015",
            "8b32ffd5db394567af24c45c69a6f1cc",
            "de2ae98cc0414dad8957fc527cf23cae",
            "cfd9bf9335354c8283236611050f23d5",
            "b2c4f6cd2160415da6296670bee69008",
            "138c574b9a6a4527b85eb886bbde6185",
            "8cbc5a5ce01a4e9d919cb7753ef163ae",
            "1d043efdd20b47d48f7a89034eb7bca4",
            "08579c939a844bf7aa9170e7cd7c6511",
            "4a9aebeb8971432fa0c21943aa9e1e2d",
            "6ddeb6bb1b4247689461c391be6b3d9c",
            "59bb573db0ba4f4b84894bca1ba52a78",
            "26d7a91bc4314892b13983c6febf5cac",
            "c1483314380d4dc29b3c5c0e28db30b3"
          ]
        },
        "id": "yI6JzxfuUA1W",
        "outputId": "d44690a3-a5ce-478b-fb62-8f739917aa57"
      },
      "execution_count": 3,
      "outputs": [
        {
          "output_type": "stream",
          "name": "stderr",
          "text": [
            "/usr/local/lib/python3.10/dist-packages/huggingface_hub/utils/_token.py:88: UserWarning: \n",
            "The secret `HF_TOKEN` does not exist in your Colab secrets.\n",
            "To authenticate with the Hugging Face Hub, create a token in your settings tab (https://huggingface.co/settings/tokens), set it as secret in your Google Colab and restart your session.\n",
            "You will be able to reuse this secret in all of your notebooks.\n",
            "Please note that authentication is recommended but still optional to access public models or datasets.\n",
            "  warnings.warn(\n"
          ]
        },
        {
          "output_type": "display_data",
          "data": {
            "text/plain": [
              "Downloading readme:   0%|          | 0.00/3.47k [00:00<?, ?B/s]"
            ],
            "application/vnd.jupyter.widget-view+json": {
              "version_major": 2,
              "version_minor": 0,
              "model_id": "b2989efb3aab4818ba9ddeaff48c8508"
            }
          },
          "metadata": {}
        },
        {
          "output_type": "display_data",
          "data": {
            "text/plain": [
              "Downloading data:   0%|          | 0.00/57.3M [00:00<?, ?B/s]"
            ],
            "application/vnd.jupyter.widget-view+json": {
              "version_major": 2,
              "version_minor": 0,
              "model_id": "2c9ff82566bc415babe7e390b5290710"
            }
          },
          "metadata": {}
        },
        {
          "output_type": "display_data",
          "data": {
            "text/plain": [
              "Generating train split:   0%|          | 0/346 [00:00<?, ? examples/s]"
            ],
            "application/vnd.jupyter.widget-view+json": {
              "version_major": 2,
              "version_minor": 0,
              "model_id": "cfd9bf9335354c8283236611050f23d5"
            }
          },
          "metadata": {}
        }
      ]
    },
    {
      "cell_type": "code",
      "source": [
        "print(len(dataset[\"train\"][0]['text']))\n"
      ],
      "metadata": {
        "colab": {
          "base_uri": "https://localhost:8080/"
        },
        "id": "AA6d6aqHWBr9",
        "outputId": "429c8b29-5a63-46ad-b80a-2e73ae752860"
      },
      "execution_count": 11,
      "outputs": [
        {
          "output_type": "stream",
          "name": "stdout",
          "text": [
            "84308\n"
          ]
        }
      ]
    },
    {
      "cell_type": "code",
      "source": [
        "# DatasetDict({\n",
        "#     train: Dataset({\n",
        "#         features: ['id', 'channel', 'channel_id', 'title', 'categories', 'tags', 'description', 'text', 'segments'],\n",
        "#         num_rows: 346\n",
        "#     })\n",
        "# })"
      ],
      "metadata": {
        "id": "zKTghVCZWnh5"
      },
      "execution_count": null,
      "outputs": []
    },
    {
      "cell_type": "code",
      "source": [
        "len(dataset['train']['id'])"
      ],
      "metadata": {
        "colab": {
          "base_uri": "https://localhost:8080/"
        },
        "id": "JLQxYuogt_jH",
        "outputId": "65103a87-09cb-4d45-bc11-1365f3854a31"
      },
      "execution_count": 44,
      "outputs": [
        {
          "output_type": "execute_result",
          "data": {
            "text/plain": [
              "346"
            ]
          },
          "metadata": {},
          "execution_count": 44
        }
      ]
    },
    {
      "cell_type": "code",
      "source": [
        "first_10_podcast=dataset[\"train\"].select(range(10))\n",
        "first_10_podcast"
      ],
      "metadata": {
        "colab": {
          "base_uri": "https://localhost:8080/"
        },
        "id": "kwTA-1PcuM3B",
        "outputId": "8779d991-b210-4d30-d097-0658e3e48555"
      },
      "execution_count": 49,
      "outputs": [
        {
          "output_type": "execute_result",
          "data": {
            "text/plain": [
              "Dataset({\n",
              "    features: ['id', 'channel', 'channel_id', 'title', 'categories', 'tags', 'description', 'text', 'segments'],\n",
              "    num_rows: 10\n",
              "})"
            ]
          },
          "metadata": {},
          "execution_count": 49
        }
      ]
    },
    {
      "cell_type": "code",
      "source": [
        "# Import the required libraries; # !pip install reportlab; Can also use FPDF\n",
        "# !pip install reportlab\n",
        "from datasets import load_dataset\n",
        "from reportlab.platypus import SimpleDocTemplate, Paragraph\n",
        "from reportlab.lib.pagesizes import A4\n",
        "from reportlab.lib.styles import getSampleStyleSheet\n",
        "\n",
        "# Load the lex fridman dataset from hugging face\n",
        "# dataset = load_dataset(\"Whispering-GPT/lex-fridman-podcast\")\n",
        "\n",
        "\n",
        "# Create a PDF document object\n",
        "doc = SimpleDocTemplate(\"podcast.pdf\", pagesize=A4, leftMargin=10, rightMargin=10, topMargin=20, bottomMargin=20)\n",
        "\n",
        "# Get the sample style sheet\n",
        "style = getSampleStyleSheet()\n",
        "\n",
        "# Create an empty list to store the flowable objects\n",
        "elements = []\n",
        "\n",
        "\n",
        "# Loop through the first 10 episodes of the dataset\n",
        "for episode in first_10_podcast:\n",
        "    # Convert the string to a dictionary\n",
        "    # Create a paragraph object for the title of the episode\n",
        "    title = Paragraph(episode[\"title\"], style[\"Heading1\"])\n",
        "    # Append the title to the elements list\n",
        "    elements.append(title)\n",
        "    # Create a paragraph object for the transcript of the episode\n",
        "    text = Paragraph(episode[\"text\"], style[\"Normal\"])\n",
        "    # Append the text to the elements list\n",
        "    elements.append(text)\n",
        "\n",
        "\n",
        "# Build the PDF document with the elements list\n",
        "doc.build(elements)\n"
      ],
      "metadata": {
        "id": "NAobcLw5lIFj"
      },
      "execution_count": 51,
      "outputs": []
    }
  ]
}